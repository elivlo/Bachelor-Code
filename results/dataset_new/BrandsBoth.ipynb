{
 "cells": [
  {
   "cell_type": "code",
   "execution_count": 9,
   "id": "31657162",
   "metadata": {},
   "outputs": [],
   "source": [
    "import numpy as np\n",
    "import pandas as pd\n",
    "import matplotlib.pyplot as plt\n",
    "import brands"
   ]
  },
  {
   "cell_type": "code",
   "execution_count": 12,
   "id": "878aedd2",
   "metadata": {},
   "outputs": [
    {
     "data": {
      "text/plain": [
       "(17456, 6)"
      ]
     },
     "execution_count": 12,
     "metadata": {},
     "output_type": "execute_result"
    }
   ],
   "source": [
    "df_phish = pd.read_csv(\"result_v2_long2_38.txt\", sep=\"\\t\")\n",
    "brs_df = df_phish['true_brand'].unique()\n",
    "df_phish.shape"
   ]
  },
  {
   "cell_type": "code",
   "execution_count": 11,
   "id": "a898fc57",
   "metadata": {},
   "outputs": [],
   "source": [
    "brs = brands.brands"
   ]
  },
  {
   "cell_type": "code",
   "execution_count": 12,
   "id": "722146d4",
   "metadata": {},
   "outputs": [],
   "source": [
    "brands_intersect = [value for value in brs if value in brs_df]"
   ]
  },
  {
   "cell_type": "code",
   "execution_count": 1,
   "id": "de1bbc53-9590-4bb2-9528-83158d19dc16",
   "metadata": {},
   "outputs": [
    {
     "data": {
      "text/plain": [
       "38"
      ]
     },
     "execution_count": 1,
     "metadata": {},
     "output_type": "execute_result"
    }
   ],
   "source": [
    "brands_intersect = ['1&1 Ionos',\n",
    " 'Adobe',\n",
    " 'Alaska USA Federal Credit Union',\n",
    " 'Amazon',\n",
    " 'American Express',\n",
    " 'AOL',\n",
    " 'Apple',\n",
    " 'AT&T',\n",
    " 'Banca Sella',\n",
    " 'Bank of America',\n",
    " 'Bet365',\n",
    " 'Blockchain',\n",
    " 'DocuSign',\n",
    " 'Dropbox',\n",
    " 'eBay',\n",
    " 'Etisalat',\n",
    " 'Facebook',\n",
    " 'GoDaddy',\n",
    " 'Google',\n",
    " 'Instagram',\n",
    " 'IRS',\n",
    " 'Navy Federal Credit Union',\n",
    " 'Netflix',\n",
    " 'Orange',\n",
    " 'PayPal',\n",
    " 'PostFinance',\n",
    " 'Rackspace',\n",
    " 'Scotiabank',\n",
    " 'Societe Generale',\n",
    " 'Spectrum',\n",
    " 'Spotify',\n",
    " 'Square',\n",
    " 'Standard Chartered Bank',\n",
    " 'Steam',\n",
    " 'WeTransfer',\n",
    " 'WhatsApp', 'Deutsche Telekom', 'DHL']\n",
    "len(brands_intersect)"
   ]
  },
  {
   "cell_type": "code",
   "execution_count": 6,
   "id": "3d1b1630",
   "metadata": {},
   "outputs": [
    {
     "data": {
      "text/plain": [
       "['1&1 Ionos',\n",
       " 'Adobe',\n",
       " 'Alaska USA Federal Credit Union',\n",
       " 'Amazon',\n",
       " 'American Express',\n",
       " 'AOL',\n",
       " 'Apple',\n",
       " 'AT&T',\n",
       " 'Banca Sella',\n",
       " 'Bank of America',\n",
       " 'Bet365',\n",
       " 'Blockchain',\n",
       " 'DocuSign',\n",
       " 'Dropbox',\n",
       " 'eBay',\n",
       " 'Etisalat',\n",
       " 'Facebook',\n",
       " 'GoDaddy',\n",
       " 'Google',\n",
       " 'Instagram',\n",
       " 'IRS',\n",
       " 'Navy Federal Credit Union',\n",
       " 'Netflix',\n",
       " 'Orange',\n",
       " 'PayPal',\n",
       " 'PostFinance',\n",
       " 'Rackspace',\n",
       " 'Scotiabank',\n",
       " 'Societe Generale',\n",
       " 'Spectrum',\n",
       " 'Spotify',\n",
       " 'Square',\n",
       " 'Standard Chartered Bank',\n",
       " 'Steam',\n",
       " 'WeTransfer',\n",
       " 'WhatsApp',\n",
       " 'Deutsche Telekom',\n",
       " 'DHL']"
      ]
     },
     "execution_count": 6,
     "metadata": {},
     "output_type": "execute_result"
    }
   ],
   "source": [
    "brands_intersect"
   ]
  },
  {
   "cell_type": "code",
   "execution_count": 53,
   "id": "a7b45f28",
   "metadata": {},
   "outputs": [
    {
     "name": "stdout",
     "output_type": "stream",
     "text": [
      "Rackspace & 461 \\\\ \\hline\n",
      "Steam & 461 \\\\ \\hline\n",
      "Square & 461 \\\\ \\hline\n",
      "eBay & 461 \\\\ \\hline\n",
      "American Express & 461 \\\\ \\hline\n",
      "PostFinance & 461 \\\\ \\hline\n",
      "Banca Sella & 461 \\\\ \\hline\n",
      "Facebook & 461 \\\\ \\hline\n",
      "Spectrum & 461 \\\\ \\hline\n",
      "AT&T & 461 \\\\ \\hline\n",
      "Orange & 461 \\\\ \\hline\n",
      "Bet365 & 461 \\\\ \\hline\n",
      "Google & 461 \\\\ \\hline\n",
      "Spotify & 461 \\\\ \\hline\n",
      "Amazon & 461 \\\\ \\hline\n",
      "IRS & 461 \\\\ \\hline\n",
      "Etisalat & 461 \\\\ \\hline\n",
      "Alaska USA Federal Credit Union & 461 \\\\ \\hline\n",
      "Bank of America & 461 \\\\ \\hline\n",
      "Navy Federal Credit Union & 461 \\\\ \\hline\n",
      "Netflix & 461 \\\\ \\hline\n",
      "WhatsApp & 461 \\\\ \\hline\n",
      "Blockchain & 461 \\\\ \\hline\n",
      "1&1 Ionos & 461 \\\\ \\hline\n",
      "GoDaddy & 459 \\\\ \\hline\n",
      "Apple & 458 \\\\ \\hline\n",
      "Instagram & 458 \\\\ \\hline\n",
      "Adobe & 458 \\\\ \\hline\n",
      "PayPal & 457 \\\\ \\hline\n",
      "Dropbox & 455 \\\\ \\hline\n",
      "WeTransfer & 450 \\\\ \\hline\n",
      "Scotiabank & 446 \\\\ \\hline\n",
      "Deutsche Telekom & 440 \\\\ \\hline\n",
      "DHL Airways & 440 \\\\ \\hline\n",
      "Standard Chartered Bank & 427 \\\\ \\hline\n",
      "Societe Generale & 406 \\\\ \\hline\n",
      "AOL & 376 \\\\ \\hline\n",
      "DocuSign & 349 \\\\ \\hline\n",
      "OneDrive & 121 \\\\ \\hline\n",
      "Microsoft & 87 \\\\ \\hline\n",
      "Credit Agricole & 55 \\\\ \\hline\n",
      "163.cn & 25 \\\\ \\hline\n",
      "Interac & 15 \\\\ \\hline\n",
      "Leboncoin & 3 \\\\ \\hline\n",
      "Yahoo & 3 \\\\ \\hline\n",
      "KTB Bank & 1 \\\\ \\hline\n",
      "Apple Software Update & 1 \\\\ \\hline\n",
      "Apple Kit Installer & 1 \\\\ \\hline\n",
      "Apple Federal Credit Union & 1 \\\\ \\hline\n"
     ]
    }
   ],
   "source": [
    "cou = df_phish['true_brand'].value_counts()\n",
    "ggg = cou.reset_index()\n",
    "for t in ggg.iterrows():\n",
    "    print(f\"{t[1]['index']} & {t[1]['true_brand']} \\\\\\\\ \\\\hline\")"
   ]
  },
  {
   "cell_type": "code",
   "execution_count": 50,
   "id": "16838149",
   "metadata": {},
   "outputs": [
    {
     "name": "stdout",
     "output_type": "stream",
     "text": [
      "index         Rackspace\n",
      "true_brand          461\n",
      "Name: 0, dtype: object\n"
     ]
    }
   ],
   "source": [
    "for t in ggg.iterrows():\n",
    "    print(t[1])\n",
    "    break"
   ]
  }
 ],
 "metadata": {
  "kernelspec": {
   "display_name": "Python 3",
   "language": "python",
   "name": "python3"
  },
  "language_info": {
   "codemirror_mode": {
    "name": "ipython",
    "version": 3
   },
   "file_extension": ".py",
   "mimetype": "text/x-python",
   "name": "python",
   "nbconvert_exporter": "python",
   "pygments_lexer": "ipython3",
   "version": "3.11.1"
  },
  "vscode": {
   "interpreter": {
    "hash": "e7370f93d1d0cde622a1f8e1c04877d8463912d04d973331ad4851f04de6915a"
   }
  }
 },
 "nbformat": 4,
 "nbformat_minor": 5
}
