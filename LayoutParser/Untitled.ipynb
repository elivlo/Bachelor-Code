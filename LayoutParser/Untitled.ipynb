{
 "cells": [
  {
   "cell_type": "code",
   "execution_count": 1,
   "id": "4d43b084-b1fd-43ba-8283-45bea8915017",
   "metadata": {},
   "outputs": [],
   "source": [
    "from datetime import datetime\n",
    "import layoutparser as lp\n",
    "import cv2\n",
    "import os\n",
    "import json\n",
    "import random\n",
    "from matplotlib import pyplot as plt"
   ]
  },
  {
   "cell_type": "code",
   "execution_count": 2,
   "id": "03e22de1-cfd9-44d5-8b24-93fabf8c5eb6",
   "metadata": {},
   "outputs": [
    {
     "name": "stderr",
     "output_type": "stream",
     "text": [
      "/home/ubuntu/venv/lib/python3.10/site-packages/tqdm/auto.py:22: TqdmWarning: IProgress not found. Please update jupyter and ipywidgets. See https://ipywidgets.readthedocs.io/en/stable/user_install.html\n",
      "  from .autonotebook import tqdm as notebook_tqdm\n",
      "The checkpoint state_dict contains keys that are not used by the model:\n",
      "  \u001b[35mpixel_mean\u001b[0m\n",
      "  \u001b[35mpixel_std\u001b[0m\n",
      "  \u001b[35mproposal_generator.anchor_generator.cell_anchors.{0, 1, 2, 3, 4}\u001b[0m\n"
     ]
    }
   ],
   "source": [
    "base_path = \"../phishing_websites/legit_database_files\"\n",
    "model_prima = lp.Detectron2LayoutModel('lp://PrimaLayout/mask_rcnn_R_50_FPN_3x/config',\n",
    "                                       extra_config=[\"MODEL.ROI_HEADS.SCORE_THRESH_TEST\", 0.4],\n",
    "                                       label_map={0: \"Text\", 1: \"Title\", 2: \"List\", 3: \"Table\", 4: \"Figure\"})"
   ]
  },
  {
   "cell_type": "code",
   "execution_count": 3,
   "id": "926644fc-01c8-4b1e-9c72-a6337123dd1d",
   "metadata": {},
   "outputs": [],
   "source": [
    "def remove_is_in(layout, center=True):\n",
    "    lay = lp.Layout()\n",
    "\n",
    "    for element in layout:\n",
    "        inside = False\n",
    "        for e in lay:\n",
    "            if e is element:\n",
    "                inside = True\n",
    "                break\n",
    "            if element.block.x_1 >= e.block.x_1 and element.block.y_1 >= e.block.y_1 and element.block.x_2 <= e.block.x_2 and element.block.y_2 <= e.block.y_2:\n",
    "                inside = True\n",
    "                break\n",
    "        if not inside:\n",
    "            lay += [element]\n",
    "    return lay\n",
    "\n",
    "\n",
    "def remove_big_small(layout, img_size):\n",
    "    lay = lp.Layout()\n",
    "    for element in layout:\n",
    "        area = (element.area / img_size)\n",
    "        if 0.5 > area > 0.01:\n",
    "            lay += [element]\n",
    "    return lay\n",
    "\n",
    "def is_in_line(layout, im_height):\n",
    "    lay = lp.Layout()\n",
    "\n",
    "    for e in layout:\n",
    "        y_center = e.block.center[1]\n",
    "        found = False\n",
    "        for elem in lay:\n",
    "            if abs(y_center - elem.block.center[1]) < (im_height*0.05):\n",
    "                found = True\n",
    "                if e.block.x_1 < elem.block.x_1:\n",
    "                    elem.block.x_1 = e.block.x_1\n",
    "                if e.block.x_2 > elem.block.x_2:\n",
    "                    elem.block.x_2 = e.block.x_2\n",
    "                if e.block.y_1 < elem.block.y_1:\n",
    "                    elem.block.y_1 = e.block.y_1\n",
    "                if e.block.y_2 > elem.block.y_2:\n",
    "                    elem.block.y_2 = e.block.y_2\n",
    "        if not found:\n",
    "            lay.insert(0, e)\n",
    "    return lay.sort(key=lambda x: x.area, reverse=True)\n",
    "\n",
    "\n",
    "def is_in_row(layout, im_width):\n",
    "    lay = lp.Layout()\n",
    "\n",
    "    for e in layout:\n",
    "        x_center = e.block.center[0]\n",
    "        found = False\n",
    "        for elem in lay:\n",
    "            if abs(x_center - elem.block.center[0]) < (im_width*0.05):\n",
    "                found = True\n",
    "                if e.block.y_1 < elem.block.y_1:\n",
    "                    elem.block.y_1 = e.block.y_1\n",
    "                if e.block.y_2 > elem.block.y_2:\n",
    "                    elem.block.y_2 = e.block.y_2\n",
    "                if e.block.x_1 < elem.block.x_1:\n",
    "                    elem.block.x_1 = e.block.x_1\n",
    "                if e.block.x_2 > elem.block.x_2:\n",
    "                    elem.block.x_2 = e.block.x_2\n",
    "        if not found:\n",
    "            lay.insert(0, e)\n",
    "    return lay.sort(key=lambda x: x.area, reverse=True)"
   ]
  },
  {
   "cell_type": "markdown",
   "id": "ab8cd904-73ca-4cf9-abf6-8894589e4943",
   "metadata": {},
   "source": [
    "## Start"
   ]
  },
  {
   "cell_type": "code",
   "execution_count": 13,
   "id": "95abe64f-7313-4328-a575-dbd155792487",
   "metadata": {},
   "outputs": [],
   "source": [
    "base_path = \"../PHISHPEDIA/Phishpedia/phishpedia/src/siamese_pedia/expand_targetlist_v2\"\n",
    "image = cv2.imread(f\"{base_path}/Blockchain/loginpage.png\")\n",
    "image = image[..., ::-1]\n",
    "image_size = image.shape[0] * image.shape[1]\n",
    "\n",
    "lay = model_prima.detect(image)"
   ]
  },
  {
   "cell_type": "code",
   "execution_count": 14,
   "id": "28edeea4-f93e-46c1-9fc8-be974427dbce",
   "metadata": {},
   "outputs": [],
   "source": [
    "lines = is_in_line(lay.sort(key=lambda x: x.block.center[1]), image.shape[0])\n",
    "rows = is_in_row(lay.sort(key=lambda x: x.block.center[0]), image.shape[1])\n",
    "\n",
    "l = remove_big_small(lines, image_size)\n",
    "r = remove_big_small(rows, image_size)\n",
    "#lr = (l + r).sort(key=lambda x: x.area, reverse=True)\n",
    "lr = remove_is_in((l + r).sort(key=lambda x: x.area, reverse=True))"
   ]
  },
  {
   "cell_type": "code",
   "execution_count": 15,
   "id": "c8121cc3-640c-4184-8e0c-faf265619cc5",
   "metadata": {},
   "outputs": [],
   "source": [
    "#lr = lr.to_dataframe().loc[:, [\"x_1\", \"x_2\", \"y_1\", \"y_2\"]].to_numpy()[1]\n",
    "#l = lp.Layout()\n",
    "#l.insert(0, lr[1])\n",
    "#lr = l\n",
    "#lr"
   ]
  },
  {
   "cell_type": "code",
   "execution_count": 16,
   "id": "23dc3da0-8a6b-46b2-9fbb-e025675286e6",
   "metadata": {},
   "outputs": [],
   "source": [
    "#lines.to_dataframe().loc[:, [\"x_1\", \"x_2\", \"y_1\", \"y_2\"]].to_numpy()"
   ]
  },
  {
   "cell_type": "code",
   "execution_count": 17,
   "id": "12c542af-f49d-4337-9a1b-cdd6338eb31c",
   "metadata": {},
   "outputs": [],
   "source": [
    "image_lay = lp.draw_box(image, lay, box_width=3)\n",
    "image_1 = lp.draw_box(image, l, box_width=3)\n",
    "image_2 = lp.draw_box(image, r, box_width=3)\n",
    "image_end = lp.draw_box(image, lr.pad(8,8,8,8), box_width=3)"
   ]
  },
  {
   "cell_type": "code",
   "execution_count": 18,
   "id": "babacfbb-0f89-4619-9926-71d941f66a05",
   "metadata": {},
   "outputs": [],
   "source": [
    "image_lay.save(f\"a.png\")\n",
    "image_1.save(f\"a1.png\")\n",
    "image_2.save(f\"a2.png\")\n",
    "image_end.save(f\"b.png\")"
   ]
  },
  {
   "cell_type": "code",
   "execution_count": 10,
   "id": "c5625257-8740-4544-87ff-3a36347b3ba1",
   "metadata": {},
   "outputs": [
    {
     "name": "stdout",
     "output_type": "stream",
     "text": [
      "387.6941909790039\n",
      "447.65208435058594\n",
      "343.41664123535156\n",
      "33.39764881134033\n",
      "303.68772888183594\n",
      "198.3244171142578\n",
      "171.96878051757812\n",
      "173.1952133178711\n",
      "447.65208435058594\n",
      "34.00912952423096\n",
      "181.3691864013672\n",
      "550.1845397949219\n",
      "184.6432876586914\n",
      "224.0603380203247\n",
      "408.82460021972656\n",
      "34.00912952423096\n",
      "351.28662109375\n"
     ]
    }
   ],
   "source": [
    "lay.to_dataframe().loc[:, [\"x_1\", \"x_2\", \"y_1\", \"y_2\"]].to_numpy()\n",
    "for t in lay:\n",
    "    print(t.block.center[1])"
   ]
  },
  {
   "cell_type": "code",
   "execution_count": 11,
   "id": "fe46ec09-06cb-4454-9502-ecb7c5f6f39f",
   "metadata": {},
   "outputs": [
    {
     "name": "stdout",
     "output_type": "stream",
     "text": [
      "550.1845397949219\n",
      "34.00912952423096\n",
      "184.6432876586914\n",
      "408.82460021972656\n",
      "303.68772888183594\n",
      "343.41664123535156\n",
      "447.65208435058594\n",
      "387.6941909790039\n"
     ]
    }
   ],
   "source": [
    "for t in lines:\n",
    "    print(t.block.center[1])"
   ]
  },
  {
   "cell_type": "code",
   "execution_count": 12,
   "id": "16066912-d1ca-4c57-a12c-250713c441b7",
   "metadata": {},
   "outputs": [
    {
     "name": "stdout",
     "output_type": "stream",
     "text": [
      "TextBlock(block=Rectangle(x_1=263.12152099609375, y_1=164.3883819580078, x_2=447.77716064453125, y_2=611.0), text=None, id=None, type=Title, parent=None, next=None, score=0.9997488856315613)\n",
      "TextBlock(block=Rectangle(x_1=472.1885986328125, y_1=443.88824462890625, x_2=644.8549194335938, y_2=451.4159240722656), text=None, id=None, type=Title, parent=None, next=None, score=0.9996209144592285)\n",
      "TextBlock(block=Rectangle(x_1=287.9779968261719, y_1=335.2950744628906, x_2=650.5047607421875, y_2=351.5382080078125), text=None, id=None, type=Title, parent=None, next=None, score=0.9995309114456177)\n",
      "TextBlock(block=Rectangle(x_1=718.0853881835938, y_1=30.465646743774414, x_2=895.0311279296875, y_2=36.32965087890625), text=None, id=None, type=Title, parent=None, next=None, score=0.9990813732147217)\n",
      "TextBlock(block=Rectangle(x_1=280.46502685546875, y_1=292.6479797363281, x_2=628.3392333984375, y_2=314.72747802734375), text=None, id=None, type=Title, parent=None, next=None, score=0.9951797723770142)\n",
      "TextBlock(block=Rectangle(x_1=288.8141174316406, y_1=191.75064086914062, x_2=419.8695068359375, y_2=204.898193359375), text=None, id=None, type=Title, parent=None, next=None, score=0.9932098984718323)\n",
      "TextBlock(block=Rectangle(x_1=600.9541625976562, y_1=167.69012451171875, x_2=644.0996704101562, y_2=176.2474365234375), text=None, id=None, type=Title, parent=None, next=None, score=0.9929919242858887)\n",
      "TextBlock(block=Rectangle(x_1=282.77972412109375, y_1=164.3883819580078, x_2=425.8287048339844, y_2=182.00204467773438), text=None, id=None, type=Title, parent=None, next=None, score=0.9875197410583496)\n",
      "TextBlock(block=Rectangle(x_1=472.1885986328125, y_1=443.88824462890625, x_2=644.8549194335938, y_2=451.4159240722656), text=None, id=None, type=Title, parent=None, next=None, score=0.9593669772148132)\n",
      "TextBlock(block=Rectangle(x_1=45.24257278442383, y_1=24.72702980041504, x_2=188.43548583984375, y_2=43.291229248046875), text=None, id=None, type=Title, parent=None, next=None, score=0.9531551599502563)\n",
      "TextBlock(block=Rectangle(x_1=282.2705078125, y_1=165.6871337890625, x_2=425.5286560058594, y_2=197.05123901367188), text=None, id=None, type=Title, parent=None, next=None, score=0.9411680102348328)\n",
      "TextBlock(block=Rectangle(x_1=263.12152099609375, y_1=489.36907958984375, x_2=447.77716064453125, y_2=611.0), text=None, id=None, type=List, parent=None, next=None, score=0.9337446689605713)\n",
      "TextBlock(block=Rectangle(x_1=282.2705078125, y_1=164.3883819580078, x_2=644.0996704101562, y_2=204.898193359375), text=None, id=None, type=Title, parent=None, next=None, score=0.8462744951248169)\n",
      "TextBlock(block=Rectangle(x_1=45.24257278442383, y_1=24.72702980041504, x_2=895.0311279296875, y_2=423.3936462402344), text=None, id=None, type=Title, parent=None, next=None, score=0.777624785900116)\n",
      "TextBlock(block=Rectangle(x_1=279.397705078125, y_1=394.25555419921875, x_2=655.6089477539062, y_2=423.3936462402344), text=None, id=None, type=5, parent=None, next=None, score=0.6173927783966064)\n",
      "TextBlock(block=Rectangle(x_1=45.24257278442383, y_1=24.72702980041504, x_2=895.0311279296875, y_2=43.291229248046875), text=None, id=None, type=Title, parent=None, next=None, score=0.5144711136817932)\n",
      "TextBlock(block=Rectangle(x_1=288.4669494628906, y_1=351.0350341796875, x_2=650.5047607421875, y_2=351.5382080078125), text=None, id=None, type=5, parent=None, next=None, score=0.40567538142204285)\n"
     ]
    }
   ],
   "source": [
    "for t in lay:\n",
    "    print(t)"
   ]
  },
  {
   "cell_type": "code",
   "execution_count": null,
   "id": "0bf2deec-5253-4aa6-8080-f01a1ffb7afd",
   "metadata": {},
   "outputs": [],
   "source": []
  }
 ],
 "metadata": {
  "kernelspec": {
   "display_name": "Python 3 (ipykernel)",
   "language": "python",
   "name": "python3"
  },
  "language_info": {
   "codemirror_mode": {
    "name": "ipython",
    "version": 3
   },
   "file_extension": ".py",
   "mimetype": "text/x-python",
   "name": "python",
   "nbconvert_exporter": "python",
   "pygments_lexer": "ipython3",
   "version": "3.10.6"
  }
 },
 "nbformat": 4,
 "nbformat_minor": 5
}
